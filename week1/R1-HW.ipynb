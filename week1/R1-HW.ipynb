{
 "cells": [
  {
   "cell_type": "code",
   "execution_count": null,
   "metadata": {},
   "outputs": [],
   "source": [
    "!pip install python-dotenv\n",
    "!pip install transformers\n",
    "!pip install bitsandbytes\n",
    "!pip install accelerate\n",
    "!pip install sentence_transformers"
   ]
  },
  {
   "cell_type": "markdown",
   "metadata": {},
   "source": [
    "### **練習 #1**\n",
    "\n",
    "使用 Extractive QA model 以 `pipeline` 做 question-answering 任務：\n",
    "- **給定文本**：the name of repo is bert-base-uncased\n",
    "- **問題目標**：問模型 repo 的名稱\n",
    "- **預期答案**：bert-base-uncased"
   ]
  },
  {
   "cell_type": "code",
   "execution_count": null,
   "metadata": {},
   "outputs": [],
   "source": [
    "# TODO\n",
    "# practice 1 不需要特別指定模型，pipeline 預設載入 distilbert-base-cased-distilled-squad, \n",
    "# 其為 Extractive QA 類摘要模型\n",
    "\n",
    "from transformers import pipeline"
   ]
  },
  {
   "cell_type": "markdown",
   "metadata": {},
   "source": [
    "利用 Hugging Face 的 text-generation model 與 Sentence Transformers embedding model 實作 QA 檢索聊天機器人。</p>\n",
    "基於提供的資料集，使用 Embedding Cosine Similarity 檢索參考資料，再透過 LLM 生成答案。</p>\n",
    "\n",
    "1. Baseline\n",
    "   - 將 demo 中的資料，替換成我們提供 or 自己的資料集\n",
    "   - 能夠檢索相似資料\n",
    "   - 基於檢索的資料進行回答\n",
    "2. Advanced（Optional）\n",
    "   - Embedding 怎麼儲存？每次都要重新計算嗎？\n",
    "   - 該如何處理太久以前的歷史資料？\n",
    "   - 利用 Gradio or Hugging Face Spaces 部署、分享 Chatbot"
   ]
  },
  {
   "cell_type": "code",
   "execution_count": null,
   "metadata": {},
   "outputs": [],
   "source": [
    "from pprint import pprint\n",
    "\n",
    "from torch import cuda, bfloat16\n",
    "\n",
    "from transformers import pipeline\n",
    "from transformers import Conversation\n",
    "conversation = Conversation() # 建立一個對話 Conversation 物件\n",
    "\n",
    "from transformers import BitsAndBytesConfig, AutoConfig, AutoModelForCausalLM, AutoTokenizer\n",
    "device = f'cuda:{cuda.current_device()}' if cuda.is_available() else 'cpu'\n",
    "print(device)\n",
    "\n",
    "from sentence_transformers import SentenceTransformer\n",
    "\n",
    "\n",
    "embedding_model = SentenceTransformer(\"intfloat/multilingual-e5-large\")"
   ]
  },
  {
   "cell_type": "markdown",
   "metadata": {},
   "source": [
    "因為載入模型較大，使用 T4 GPU 時建議進行量化，以下程式為量化處理過程，</p>\n",
    "在此先不贅述，有興趣的可以參考 Hugging face 官方文件～</p>\n",
    "\n",
    "與前面範例不同的是，模型載入方法，我們透過 `AuToModelForCausalLM` 實例化模型，將其作為參數傳入 `pipeline`。"
   ]
  },
  {
   "cell_type": "code",
   "execution_count": null,
   "metadata": {},
   "outputs": [],
   "source": [
    "model_id = 'MediaTek-Research/Breeze-7B-32k-Instruct-v1_0'\n",
    "\n",
    "bnb_config = BitsAndBytesConfig(\n",
    "    load_in_4bit=True,\n",
    "    bnb_4bit_quant_type='nf4',\n",
    "    bnb_4bit_use_double_quant=True,\n",
    "    bnb_4bit_compute_dtype=bfloat16\n",
    ")\n",
    "\n",
    "model_config = AutoConfig.from_pretrained(\n",
    "    model_id\n",
    ")\n",
    "\n",
    "tokenizer = AutoTokenizer.from_pretrained(\n",
    "    model_id)\n",
    "\n",
    "hf_model = AutoModelForCausalLM.from_pretrained(\n",
    "    model_id,\n",
    "    trust_remote_code=True,\n",
    "    config=model_config,\n",
    "    quantization_config=bnb_config,\n",
    "    device_map='auto'\n",
    ")"
   ]
  },
  {
   "cell_type": "code",
   "execution_count": null,
   "metadata": {},
   "outputs": [],
   "source": [
    "chatbot = pipeline(\n",
    "    \"text-generation\", \n",
    "    model=hf_model, \n",
    "    tokenizer=tokenizer, # Tokenizer，要與模型匹配，主要提供 chat 模式時的特殊符號\n",
    "    max_new_tokens=1024, # 模型最多可以生成多少字\n",
    "    return_full_text=False # 控制 pipeline 只輸出 AI Message\n",
    ")"
   ]
  },
  {
   "cell_type": "markdown",
   "metadata": {},
   "source": [
    "Demo"
   ]
  },
  {
   "cell_type": "code",
   "execution_count": null,
   "metadata": {},
   "outputs": [],
   "source": [
    "qa_data = [\n",
    "    \"\"\"1. 入營注意事項：役男入營前無須先行理髮，待入營後統一安排理髮，再向役男收取費用\n",
    "    2. 役男可攜帶手機(不得為大陸廠牌，且不提供充電)，部隊會集中保管，於每日夜間以定時定點方式使用。\n",
    "    3. 營區不提供充電，建議攜帶拋棄式(手動)刮鬍刀；不可攜帶噴霧式液體。\n",
    "    4. 役男可配戴隱形眼鏡，但因基礎訓練期間生活緊湊，而隱形眼鏡需相當時間消毒清洗，建議配戴鏡片眼鏡為宜，並可多備一副眼鏡，以供替換。\n",
    "    \"\"\",\n",
    "    \n",
    "    \"\"\"報到入營時應該文件：\n",
    "    1. 徵集令。\n",
    "    2. 役男本人之國民身分證正本。\n",
    "    3. 私章。\n",
    "    4. 健保ＩＣ卡。\n",
    "    5. 郵局存摺正面影本。\n",
    "    6. 替代役役男輔導需求調查表。\n",
    "    7. 個人特殊醫療用品。\n",
    "    \"\"\",\n",
    "    \n",
    "    \"\"\"\n",
    "    替代役訓練天數\n",
    "    基礎訓練：21天(含撥交日)。(自253梯次起修正)\n",
    "    專業訓練：以各分發需用機關不同而有個不同期間的專業訓練。\n",
    "    \"\"\",\n",
    "    \n",
    "    \"\"\"\n",
    "    折抵役期規定\n",
    "    請備妥相關證明文件，如高中（職）以上各級學校經軍訓主管驗證加註折抵役期日數之成績單、大專集訓結訓證書、\n",
    "    驗退（停役）證明書或軍事學校退學（開除）證明書等正本（驗證後退還）。82年次以前出生者，\n",
    "    合計不得逾30日，83-93年次以後出生者，合計不得逾15日。已受軍事入伍訓練者，請於收到徵集令時，向戶籍地區公所提出免受基礎訓練申請。\n",
    "    \"\"\",\n",
    "    \n",
    "    \"\"\"\n",
    "    要當兵時，健保要辦理轉出轉入嗎?\n",
    "    即將入營服常備兵役之役男需持徵集令向全民健保加保單位辦理轉出，轉出日期填報「入營當月份」，轉入單位免填，後續將由國軍單位接續辦理後續轉入程序。\n",
    "    \"\"\",\n",
    "    \n",
    "    \"\"\"當兵期間義務役薪水的入帳戶一定要郵局嗎?\n",
    "    依現行規定目前有郵局、台新、土地銀行跟合作金庫這四家金融機構可使用。\"\"\"\n",
    "]"
   ]
  },
  {
   "cell_type": "code",
   "execution_count": null,
   "metadata": {},
   "outputs": [],
   "source": [
    "from typing import List\n",
    "import numpy as np\n",
    "\n",
    "def get_answer(query: str, source: List[str]):\n",
    "    most_related_sentence = None\n",
    "    max_similarity = 0\n",
    "\n",
    "    for sentence in source:\n",
    "        sim = calculate_cosine_similarity(\n",
    "        embedding_model.encode(query),\n",
    "        embedding_model.encode(sentence)\n",
    "        )\n",
    "        \n",
    "        if sim > max_similarity:\n",
    "            most_related_sentence = sentence\n",
    "            max_similarity = sim\n",
    "            \n",
    "    return most_related_sentence\n",
    "\n",
    "def calculate_cosine_similarity(vec1, vec2):\n",
    "    return np.dot(vec1, vec2) / (np.linalg.norm(vec1) * np.linalg.norm(vec2))"
   ]
  },
  {
   "cell_type": "code",
   "execution_count": null,
   "metadata": {},
   "outputs": [],
   "source": [
    "user_query = input(\">>>\")\n",
    "conversation = Conversation()\n",
    "\n",
    "while user_query.lower() != \"bye\":\n",
    "    print(f\"user: {user_query}\")\n",
    "    # 尋找最相似的文件\n",
    "    answer = get_answer(user_query, qa_data)\n",
    "    llm_input = f\"\"\"請你基於以下資訊回答使用者的問題\n",
    "    {answer}\n",
    "    ===\n",
    "    問題：{user_query}\n",
    "    \"\"\"\n",
    "    conversation.add_user_input(llm_input)\n",
    "    # 將 conversation.messages 丟給 chatbot\n",
    "    chatbot_result = chatbot(conversation.messages)[0]['generated_text']\n",
    "    print(f\"AI: {chatbot_result}\")\n",
    "    conversation.append_response(chatbot_result)\n",
    "    \n",
    "    user_query = input(\">>>\")\n",
    "    "
   ]
  }
 ],
 "metadata": {
  "language_info": {
   "name": "python"
  }
 },
 "nbformat": 4,
 "nbformat_minor": 2
}
